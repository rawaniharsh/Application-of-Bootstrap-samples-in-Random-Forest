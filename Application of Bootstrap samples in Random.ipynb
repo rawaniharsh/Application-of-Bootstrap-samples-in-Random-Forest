{
 "cells": [
  {
   "cell_type": "markdown",
   "metadata": {
    "colab_type": "text",
    "id": "AjzGopb_YcKR"
   },
   "source": [
    "# Application of Bootstrap samples in Random Forest"
   ]
  },
  {
   "cell_type": "code",
   "execution_count": 1,
   "metadata": {
    "colab": {},
    "colab_type": "code",
    "id": "zZSCtDI6YcKT"
   },
   "outputs": [],
   "source": [
    "import numpy as np\n",
    "from sklearn.datasets import load_boston\n",
    "from sklearn.metrics import mean_squared_error\n",
    "import statistics\n",
    "import math"
   ]
  },
  {
   "cell_type": "markdown",
   "metadata": {
    "colab_type": "text",
    "id": "h2Y1Z1DoYcKZ"
   },
   "source": [
    " <li> Load the boston house dataset </li>"
   ]
  },
  {
   "cell_type": "code",
   "execution_count": 2,
   "metadata": {
    "colab": {},
    "colab_type": "code",
    "id": "wBWRNKCDYcKb"
   },
   "outputs": [],
   "source": [
    "boston = load_boston()\n",
    "x=boston.data #independent variables\n",
    "y=boston.target #target variable"
   ]
  },
  {
   "cell_type": "code",
   "execution_count": 3,
   "metadata": {
    "colab": {},
    "colab_type": "code",
    "id": "DTbK20-mWYHU",
    "outputId": "b473b251-a104-44df-f6c3-3427184c9042"
   },
   "outputs": [
    {
     "data": {
      "text/plain": [
       "(506, 13)"
      ]
     },
     "execution_count": 3,
     "metadata": {},
     "output_type": "execute_result"
    }
   ],
   "source": [
    "x.shape"
   ]
  },
  {
   "cell_type": "markdown",
   "metadata": {
    "colab_type": "text",
    "id": "JJ_FwP7xYcKg"
   },
   "source": [
    "### Task: 1\n",
    "<font color='red'><b>Step 1 Creating samples: </b></font> Randomly create 30 samples from the whole boston data points.\n",
    "<ol>\n",
    "<li>Creating each sample: Consider any random 303(60% of 506) data points from whole data set and then replicate any 203 points from the sampled points</li>\n",
    "<li>Ex: For better understanding of this procedure lets check this examples, assume we have 10 data points [1,2,3,4,5,6,7,8,9,10], first we take 6 data points randomly consider we have selected [4, 5, 7, 8, 9, 3] now we will replciate 4 points from [4, 5, 7, 8, 9, 3], consder they are [5, 8, 3,7] so our final sample will be [4, 5, 7, 8, 9, 3, 5, 8, 3,7]</li>\n",
    "<li> we create 30 samples like this </li>\n",
    "<li> Note that as a part of the Bagging when you are taking the random samples make sure each of the sample will have                different set of columns</li>\n",
    "<li> Ex: assume we have 10 columns for the first sample we will select [3, 4, 5, 9, 1, 2] and for the second sample [7, 9, 1, 4, 5, 6, 2] and so on...</li>\n",
    "<li> Make sure each sample will have atleast 3 feautres/columns/attributes</li>\n",
    "</ol>\n",
    "\n",
    "<font color='red'><b>Step 2 Building High Variance Models on each of the sample and finding train MSE value:</b></font> Build a DecisionTreeRegressor on each of the sample.\n",
    "<ol><li>Build a regression trees on each of 30 samples.</li>\n",
    "<li>computed the predicted values of each data point(506 data points) in your corpus.</li>\n",
    "<li> predicted house price of $i^{th}$ data point $y^{i}_{pred} =  \\frac{1}{30}\\sum_{k=1}^{30}(\\text{predicted value of } x^{i} \\text{ with } k^{th} \\text{ model})$.</li>\n",
    "<li>Now calculate the $MSE =  \\frac{1}{506}\\sum_{i=1}^{506}(y^{i} - y^{i}_{pred})^{2}$.</li>\n",
    "</ol>\n",
    "\n",
    "<font color='red'><b>Step 3 Calculating the OOB score :</b></font>\n",
    "<ol>\n",
    "<li>Computed the predicted values of each data point(506 data points) in your corpus.</li>\n",
    "<li>Predicted house price of $i^{th}$ data point $y^{i}_{pred} =  \\frac{1}{k}\\sum_{\\text{k= model which was buit on samples not included } x^{i}}(\\text{predicted value of } x^{i} \\text{ with } k^{th} \\text{ model})$.</li>\n",
    "<li>Now calculate the $OOB Score =  \\frac{1}{506}\\sum_{i=1}^{506}(y^{i} - y^{i}_{pred})^{2}$.</li>\n",
    "</ol>\n",
    "\n",
    "### Task: 2\n",
    "<pre>\n",
    "<font color='red'><b>Computing CI of OOB Score and Train MSE</b></font>\n",
    "<ol>\n",
    "<li> Repeat Task 1 for 35 times, and for each iteration store the Train MSE and OOB score </li>\n",
    "<li> After this we will have 35 Train MSE values and 35 OOB scores </li>\n",
    "<li> using these 35 values (assume like a sample) find the confidence intravels of MSE and OOB Score </li>\n",
    "<li> you need to report CI of MSE and CI of OOB Score </li>\n",
    "<li> Note: Refer the Central_Limit_theorem.ipynb to check how to find the confidence intravel</li>\n",
    "</ol>\n",
    "</pre>\n",
    "### Task: 3\n",
    "<pre>\n",
    "<font color='red'><b>Given a single query point predict the price of house.</b></font>\n",
    "\n",
    "<li>Consider xq= [0.18,20.0,5.00,0.0,0.421,5.60,72.2,7.95,7.0,30.0,19.1,372.13,18.60] Predict the house price for this point as mentioned in the step 2 of Task 1. </li>\n",
    "</pre>"
   ]
  },
  {
   "cell_type": "markdown",
   "metadata": {},
   "source": [
    "## Task: 1"
   ]
  },
  {
   "cell_type": "markdown",
   "metadata": {},
   "source": [
    "### Step 1 Creating samples: Randomly create 30 samples from the whole boston data points."
   ]
  },
  {
   "cell_type": "code",
   "execution_count": 4,
   "metadata": {},
   "outputs": [],
   "source": [
    "import random\n",
    "\n",
    "def random_sample(a, b, num):\n",
    "    rand_sample=[]\n",
    "    for i in range(num):\n",
    "        rand_sample.append(random.randint(a, b))\n",
    "    return rand_sample"
   ]
  },
  {
   "cell_type": "markdown",
   "metadata": {},
   "source": [
    "### Step 2: Build a DecisionTreeRegressor on each of the sample"
   ]
  },
  {
   "cell_type": "code",
   "execution_count": 5,
   "metadata": {},
   "outputs": [],
   "source": [
    "# https://www.quantstart.com/articles/bootstrap-aggregation-random-forests-and-boosted-trees/\n",
    "from sklearn.tree import DecisionTreeRegressor\n",
    "\n",
    "# computed the predicted values of each data point(506 data points) in your corpus\n",
    "def pred_price(x, y, X):\n",
    "    indices = []\n",
    "    col = []\n",
    "    Y_pred = []\n",
    "    Y_sample=[]\n",
    "    \n",
    "    # applying regression trees on each of 30 samples\n",
    "    for i in range(30):\n",
    "        initial_sample = np.random.choice(506,303,replace=False)\n",
    "        X_sample = x[initial_sample]\n",
    "        Y_sample=list(y[initial_sample])\n",
    "        indices.append(initial_sample)\n",
    "        \n",
    "        #again replicating 203 data points from the sampled points\n",
    "        rep_sample = np.random.choice(initial_sample,203,replace=False)\n",
    "        for j in rep_sample:\n",
    "            X_sample = np.append(X_sample, x[j].reshape(1, -1), axis = 0)\n",
    "            Y_sample.append(y[j])\n",
    "        column = np.random.choice(13, random_sample(3, 13, 1), replace = False)\n",
    "        X_sample = X_sample[:, column]\n",
    "        col.append(column)\n",
    "        \n",
    "        dt_regressor = DecisionTreeRegressor()\n",
    "        dt_regressor.fit(X_sample, Y_sample)\n",
    "        \n",
    "        pred = dt_regressor.predict(x[:, column])\n",
    "        Y_pred.append(pred)\n",
    "    return indices, col, Y_pred"
   ]
  },
  {
   "cell_type": "code",
   "execution_count": 6,
   "metadata": {},
   "outputs": [
    {
     "name": "stdout",
     "output_type": "stream",
     "text": [
      "Predicted house price: [22.8 21.6 37.3 37.3 36.2 28.7 22.9 27.1 16.5 18.9]\n"
     ]
    }
   ],
   "source": [
    "# computed the predicted values of each data point(506 data points) in your corpus\n",
    "indices, col, Y_pred = pred_price(x, y, x)\n",
    "print(\"Predicted house price:\",Y_pred[0][:10])"
   ]
  },
  {
   "cell_type": "code",
   "execution_count": 10,
   "metadata": {},
   "outputs": [
    {
     "name": "stdout",
     "output_type": "stream",
     "text": [
      "2.5471248433349603\n"
     ]
    }
   ],
   "source": [
    "# calculating mse\n",
    "# code copied from kaggle\n",
    "def mse_error(x, y):\n",
    "    indices, col, pred = pred_price(x, y, x)\n",
    "    pred = list(map(list, zip(*pred))) \n",
    "    y_pred = np.zeros(len(pred))\n",
    "    for i in range(len(pred)):\n",
    "        val = 0\n",
    "        for j in range(len(pred[0])):\n",
    "            val += pred[i][j]\n",
    "        val/=len(pred[0])\n",
    "        y_pred[i] = val\n",
    "    err = 0\n",
    "    for i in range(len(y)):\n",
    "        #calculating mse and updating\n",
    "        err += (y[i] - y_pred[i])**2\n",
    "    err/=len(y)\n",
    "    return err\n",
    "MSE = mse_error(x, y)\n",
    "print(MSE)"
   ]
  },
  {
   "cell_type": "code",
   "execution_count": 68,
   "metadata": {},
   "outputs": [
    {
     "name": "stdout",
     "output_type": "stream",
     "text": [
      "OOB Score: 14.57801645911499\n",
      "--------------------------------------------------\n"
     ]
    }
   ],
   "source": [
    "# calculate the oob error\n",
    "# code copied from kaggle\n",
    "def out_of_bag(x, y):\n",
    "    indices, col, pred = pred_price(x, y, x)\n",
    "    pred = list(map(list, zip(*pred))) \n",
    "    y_pred = np.zeros(len(pred))\n",
    "    for i in range(len(pred)):\n",
    "        val = 0\n",
    "        c = 0\n",
    "        for j in range(len(pred[0])):\n",
    "            # for model which was buit on samples not included 𝑥𝑖\n",
    "            if i not in indices[j]:\n",
    "                val += pred[i][j]\n",
    "                c += 1\n",
    "        val/=c\n",
    "        y_pred[i] = val\n",
    "    err = 0\n",
    "    for i in range(len(y)):\n",
    "        err += (y[i] - y_pred[i])**2\n",
    "    err/=len(y)\n",
    "    return err\n",
    "\n",
    "oob = out_of_bag(x, y)\n",
    "print(\"OOB Score:\",oob)\n",
    "print(\"-\"*50)"
   ]
  },
  {
   "cell_type": "markdown",
   "metadata": {},
   "source": [
    "## Task 2"
   ]
  },
  {
   "cell_type": "code",
   "execution_count": 48,
   "metadata": {},
   "outputs": [
    {
     "name": "stdout",
     "output_type": "stream",
     "text": [
      "[17.176363980502558, 17.176363980502558, 17.176363980502558, 17.176363980502558, 17.176363980502558]\n",
      "[15.487580318341857, 15.356531681410592, 14.998232766290162, 15.47985874544868, 13.85395603027453]\n"
     ]
    }
   ],
   "source": [
    "train_mse = []\n",
    "train_oob = []\n",
    "\n",
    "# Repeating Task 1 for 35 times, and for each iteration store the Train MSE and OOB score \n",
    "for i in range(35):\n",
    "    train_mse.append(mse_error(y, Y_pred))\n",
    "    train_oob.append(out_of_bag(x, y))\n",
    "print(train_mse[0:5])\n",
    "print(train_oob[0:5])"
   ]
  },
  {
   "cell_type": "code",
   "execution_count": 58,
   "metadata": {},
   "outputs": [],
   "source": [
    "# Computing CI of OOB Score and Train MSE\n",
    "#https://machinelearningmastery.com/confidence-intervals-for-machine-learning/\n",
    "\n",
    "def conf_interval(x):\n",
    "    std = np.std(x)\n",
    "    standard_error = std/math.sqrt(len(x))\n",
    "    #upper and lower confidence level \n",
    "    upper_cl = np.mean(x) + 1.96*standard_error\n",
    "    lower_cl = np.mean(x) - 1.96*standard_error\n",
    "    return upper_cl, lower_cl"
   ]
  },
  {
   "cell_type": "code",
   "execution_count": 60,
   "metadata": {},
   "outputs": [
    {
     "name": "stdout",
     "output_type": "stream",
     "text": [
      "confidence interval for mse score is:  17.176363980502554 17.176363980502554\n"
     ]
    }
   ],
   "source": [
    "upper_cl, lower_cl = conf_interval(train_mse)\n",
    "print(\"confidence interval for mse score is: \",upper_cl, lower_cl)"
   ]
  },
  {
   "cell_type": "code",
   "execution_count": 61,
   "metadata": {},
   "outputs": [
    {
     "name": "stdout",
     "output_type": "stream",
     "text": [
      "confidence interval for oob score is:  14.599291568275044 13.815820910292127\n"
     ]
    }
   ],
   "source": [
    "upper_cl, lower_cl = conf_interval(train_oob)\n",
    "print(\"confidence interval for oob score is: \",upper_cl, lower_cl)"
   ]
  },
  {
   "cell_type": "markdown",
   "metadata": {},
   "source": [
    "## Task 3\n",
    "    -Given a single query point predict the price of house"
   ]
  },
  {
   "cell_type": "code",
   "execution_count": 85,
   "metadata": {},
   "outputs": [
    {
     "name": "stdout",
     "output_type": "stream",
     "text": [
      "The predicted house price for Xq is: [21.735]\n"
     ]
    }
   ],
   "source": [
    "# Predict the house price for this point as mentioned in the step 2 of Task 1\n",
    "xq= [0.18,20.0,5.00,0.0,0.421,5.60,72.2,7.95,7.0,30.0,19.1,372.13,18.60]\n",
    "#converting input to array\n",
    "xq = np.asarray(xq).reshape(1, -1)\n",
    "indices, col, Yq = pred_price(x, y, xq)\n",
    "pred_yq = sum(Yq)/len(Yq)\n",
    "print(\"The predicted house price for Xq is:\", pred_yq)"
   ]
  },
  {
   "cell_type": "code",
   "execution_count": null,
   "metadata": {},
   "outputs": [],
   "source": []
  }
 ],
 "metadata": {
  "colab": {
   "collapsed_sections": [],
   "name": "Bootstrap_Random_Forest_instructions.ipynb",
   "provenance": []
  },
  "kernelspec": {
   "display_name": "Python 3",
   "language": "python",
   "name": "python3"
  },
  "language_info": {
   "codemirror_mode": {
    "name": "ipython",
    "version": 3
   },
   "file_extension": ".py",
   "mimetype": "text/x-python",
   "name": "python",
   "nbconvert_exporter": "python",
   "pygments_lexer": "ipython3",
   "version": "3.6.5"
  }
 },
 "nbformat": 4,
 "nbformat_minor": 1
}
